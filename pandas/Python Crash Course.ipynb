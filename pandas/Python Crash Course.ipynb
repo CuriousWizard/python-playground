{
 "cells": [
  {
   "cell_type": "markdown",
   "id": "3cbe6b15",
   "metadata": {},
   "source": [
    "# Comments"
   ]
  },
  {
   "cell_type": "code",
   "execution_count": null,
   "id": "d7862705",
   "metadata": {},
   "outputs": [],
   "source": [
    "# This is a comment"
   ]
  },
  {
   "cell_type": "markdown",
   "id": "8751ad91",
   "metadata": {},
   "source": [
    "# Basic Data Types\n",
    "\n",
    "- Integer\n",
    "- Float\n",
    "- String\n",
    "- Boolean (True / False)\n",
    "- None (for representing null)"
   ]
  },
  {
   "cell_type": "markdown",
   "id": "de86098e",
   "metadata": {},
   "source": [
    "# Built-In Functions\n",
    "\n",
    "- len() -> returns length\n",
    "- str() -> creates string\n",
    "- int()\n",
    "- float()\n",
    "- type() -> returns the data type"
   ]
  },
  {
   "cell_type": "code",
   "execution_count": 1,
   "id": "d7722153",
   "metadata": {},
   "outputs": [
    {
     "data": {
      "text/plain": [
       "31"
      ]
     },
     "execution_count": 1,
     "metadata": {},
     "output_type": "execute_result"
    }
   ],
   "source": [
    "len(\"How many characters do we have?\")"
   ]
  },
  {
   "cell_type": "markdown",
   "id": "73578f33",
   "metadata": {},
   "source": [
    "# Custom Functions"
   ]
  },
  {
   "cell_type": "code",
   "execution_count": 5,
   "id": "54c727b1",
   "metadata": {},
   "outputs": [],
   "source": [
    "# Create a function that converts Celsius to Fahrenheit\n",
    "\n",
    "def convert_to_fahrenheit(celsius_temp = 0):\n",
    "    return (celsius_temp * 1.8) + 32"
   ]
  },
  {
   "cell_type": "code",
   "execution_count": 6,
   "id": "0cdd94e9",
   "metadata": {},
   "outputs": [
    {
     "data": {
      "text/plain": [
       "46.4"
      ]
     },
     "execution_count": 6,
     "metadata": {},
     "output_type": "execute_result"
    }
   ],
   "source": [
    "convert_to_fahrenheit(8)"
   ]
  },
  {
   "cell_type": "markdown",
   "id": "f615b29f",
   "metadata": {},
   "source": [
    "# String Methods\n",
    "\n",
    "- upper()\n",
    "- lower()\n",
    "- swapcase()\n",
    "- title()\n",
    "- capitalize()\n",
    "- lstrip() / rstrip() -> erases whitespace from either side\n",
    "- strip()\n",
    "- replace()\n",
    "- startswith()\n",
    "- endswith()\n",
    "- ... in var-> returns boolean if string is in variable\n",
    "- ... not in var"
   ]
  },
  {
   "cell_type": "code",
   "execution_count": null,
   "id": "63426008",
   "metadata": {},
   "outputs": [],
   "source": [
    "profession = \"Developer\"\n",
    "profession.replace(\"e\",\"a\")"
   ]
  },
  {
   "cell_type": "markdown",
   "id": "11a2daf2",
   "metadata": {},
   "source": [
    "## Lists []\n",
    "\n",
    "Mutable data structure that holds an ordered collection of elements\n",
    "\n",
    "- append()\n",
    "- pop()\n",
    "- remove()\n",
    "- in\n",
    "- not in"
   ]
  },
  {
   "cell_type": "markdown",
   "id": "4f7e2de1",
   "metadata": {},
   "source": [
    "# Index positions and slicing"
   ]
  },
  {
   "cell_type": "code",
   "execution_count": null,
   "id": "e46dd4df",
   "metadata": {},
   "outputs": [],
   "source": [
    "spiderman = \"Spiderman\"\n",
    "\n",
    "spiderman[0] # first char\n",
    "spiderman[-2] # second char backwards\n",
    "spiderman[1:3] # including first index, excluding second one\n",
    "spiderman[0:6]\n",
    "spiderman[:6] # if it starts from the first item you can omit 0, similar for last\n"
   ]
  },
  {
   "cell_type": "markdown",
   "id": "c92bc1af",
   "metadata": {},
   "source": [
    "# Dictionaries {}\n",
    "\n",
    "Unordered collection of key-value pairs"
   ]
  },
  {
   "cell_type": "code",
   "execution_count": null,
   "id": "418d5bba",
   "metadata": {},
   "outputs": [],
   "source": [
    "menu = {\"burrito\": 13.99, \"burger\": 7.99}"
   ]
  }
 ],
 "metadata": {
  "kernelspec": {
   "display_name": "Python 3 (ipykernel)",
   "language": "python",
   "name": "python3"
  },
  "language_info": {
   "codemirror_mode": {
    "name": "ipython",
    "version": 3
   },
   "file_extension": ".py",
   "mimetype": "text/x-python",
   "name": "python",
   "nbconvert_exporter": "python",
   "pygments_lexer": "ipython3",
   "version": "3.9.13"
  }
 },
 "nbformat": 4,
 "nbformat_minor": 5
}
